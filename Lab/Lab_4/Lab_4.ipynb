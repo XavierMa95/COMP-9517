{
 "cells": [
  {
   "cell_type": "code",
   "execution_count": 2,
   "metadata": {},
   "outputs": [],
   "source": [
    "from sklearn import metrics\n",
    "from sklearn.datasets import load_digits\n",
    "from sklearn.model_selection import train_test_split\n",
    "from sklearn.neighbors import KNeighborsClassifier\n",
    "from sklearn.linear_model import SGDClassifier\n",
    "from sklearn.tree import DecisionTreeClassifier\n",
    "from sklearn.metrics import classification_report\n",
    "import numpy as np\n",
    "import matplotlib.pyplot as plt"
   ]
  },
  {
   "cell_type": "code",
   "execution_count": 4,
   "metadata": {},
   "outputs": [
    {
     "data": {
      "text/plain": [
       "Text(0.5, 1.0, 'Label: 0\\n')"
      ]
     },
     "execution_count": 4,
     "metadata": {},
     "output_type": "execute_result"
    },
    {
     "data": {
      "image/png": "[encoded data removed]",
      "text/plain": [
       "<Figure size 432x288 with 1 Axes>"
      ]
     },
     "metadata": {
      "needs_background": "light"
     },
     "output_type": "display_data"
    }
   ],
   "source": [
    "digits = load_digits()\n",
    "\n",
    "plt.imshow(np.reshape(digits.data[0], (8, 8)), cmap='gray')\n",
    "plt.title('Label: %i\\n' % digits.target[0], fontsize=25)"
   ]
  },
  {
   "cell_type": "code",
   "execution_count": 5,
   "metadata": {},
   "outputs": [],
   "source": [
    "train_set, test_set = train_test_split(digits.data,train_size = 0.75, shuffle = False)\n",
    "train_label, test_label = train_test_split(digits.target,train_size = 0.75, shuffle = False)"
   ]
  },
  {
   "cell_type": "code",
   "execution_count": 12,
   "metadata": {},
   "outputs": [
    {
     "name": "stdout",
     "output_type": "stream",
     "text": [
      "COMP 9517 Week 5 Lab - z5193723\n",
      "\n",
      "Test size = 0.25\n",
      "KNN Accuracy:     0.971   recall: 0.971\n",
      "SGD Accuracy:     0.900   recall: 0.900\n",
      "DT Accuracy:      0.791   recall: 0.791\n",
      "\n",
      "KNN Confusion Matrix:\n",
      "[[43  0  0  0  0  0  0  0  0  0]\n",
      " [ 0 46  0  0  0  0  0  0  0  0]\n",
      " [ 0  0 43  0  0  0  0  0  0  0]\n",
      " [ 0  0  1 43  0  1  0  1  1  0]\n",
      " [ 0  0  0  0 45  0  0  1  1  1]\n",
      " [ 0  0  0  0  0 44  1  0  0  0]\n",
      " [ 0  0  0  0  0  0 47  0  0  0]\n",
      " [ 0  0  0  0  0  0  0 45  0  0]\n",
      " [ 0  2  0  0  0  0  0  0 39  0]\n",
      " [ 0  0  0  1  0  2  0  0  0 42]]\n"
     ]
    }
   ],
   "source": [
    "KNN = KNeighborsClassifier(3)\n",
    "KNN.fit(train_set,train_label)\n",
    "KNN_prediction = KNN.predict(test_set)\n",
    "\n",
    "KNN_accuracy = metrics.accuracy_score(test_label,KNN_prediction)\n",
    "KNN_recall = metrics.recall_score(test_label,KNN_prediction,average= 'micro')\n",
    "\n",
    "# print(accuracy)\n",
    "# print(metrics.confusion_matrix(test_label,prediction))\n",
    "# print(recall)\n",
    "\n",
    "\n",
    "#DecisionTreeClassifier\n",
    "DTC = DecisionTreeClassifier(criterion='entropy',max_depth = 12)\n",
    "DTC.fit(train_set,train_label)\n",
    "DTC_prediction = DTC.predict(test_set)\n",
    "\n",
    "DTC_accuracy = metrics.accuracy_score(test_label,DTC_prediction)\n",
    "DTC_recall = metrics.recall_score(test_label,DTC_prediction,average= 'micro')\n",
    "\n",
    "\n",
    "#SGDClassifier\n",
    "SGD=SGDClassifier(loss=\"log\",penalty=\"l2\")\n",
    "SGD.fit(train_set,train_label)\n",
    "SGD_pre = SGD.predict(test_set)\n",
    "\n",
    "SGD_accuracy = metrics.accuracy_score(test_label,SGD_pre)\n",
    "SGD_recall = metrics.recall_score(test_label,SGD_pre,average= 'micro')\n",
    "\n",
    "\n",
    "# print(classification_report(test_label, SGD_pre))\n",
    "\n",
    "print(\"COMP 9517 Week 5 Lab - z5193723\")\n",
    "print()\n",
    "print(\"Test size = 0.25\")\n",
    "print(\"KNN Accuracy:%10.3f\"%KNN_accuracy+\"   \"+\"recall:%6.3f\"%KNN_recall)\n",
    "print(\"SGD Accuracy:%10.3f\"%SGD_accuracy+\"   \"+\"recall:%6.3f\"%SGD_recall)\n",
    "print(\"DT Accuracy:%11.3f\"%DTC_accuracy+\"   \"+\"recall:%6.3f\"%DTC_recall)\n",
    "print()\n",
    "print(\"KNN Confusion Matrix:\")\n",
    "print(metrics.confusion_matrix(test_label,KNN_prediction))\n",
    "\n",
    "\n"
   ]
  },
  {
   "cell_type": "code",
   "execution_count": 70,
   "metadata": {},
   "outputs": [
    {
     "name": "stdout",
     "output_type": "stream",
     "text": [
      "(450,) (450,)\n"
     ]
    }
   ],
   "source": [
    "print(test_label.shape,KNN_prediction.shape)"
   ]
  },
  {
   "cell_type": "code",
   "execution_count": 43,
   "metadata": {},
   "outputs": [],
   "source": [
    "DTC = DecisionTreeClassifier(criterion='entropy')\n",
    "DTC.fit(train_set,train_label)\n",
    "DTC_prediction = KNN.predict(test_set)\n",
    "\n",
    "accuracy = metrics.accuracy_score(test_label,DTC_prediction)\n",
    "recall = metrics.recall_score(test_label,DTC_prediction,average= 'macro')"
   ]
  },
  {
   "cell_type": "code",
   "execution_count": 42,
   "metadata": {},
   "outputs": [
    {
     "name": "stdout",
     "output_type": "stream",
     "text": [
      "0.9111111111111111\n",
      "0.9117522351470745\n"
     ]
    }
   ],
   "source": [
    "SGD=SGDClassifier(loss=\"log\",penalty=\"l2\")\n",
    "SGD.fit(train_set,train_label)\n",
    "SGD_pre = SGD.predict(test_set)\n",
    "\n",
    "accuracy = metrics.accuracy_score(test_label,SGD_pre)\n",
    "recall = metrics.recall_score(test_label,SGD_pre,average= 'macro')\n",
    "\n",
    "print(accuracy)\n",
    "print(recall)\n"
   ]
  },
  {
   "cell_type": "code",
   "execution_count": null,
   "metadata": {},
   "outputs": [],
   "source": []
  },
  {
   "cell_type": "code",
   "execution_count": 78,
   "metadata": {},
   "outputs": [
    {
     "name": "stdout",
     "output_type": "stream",
     "text": [
      "Help on function recall_score in module sklearn.metrics.classification:\n",
      "\n",
      "recall_score(y_true, y_pred, labels=None, pos_label=1, average='binary', sample_weight=None)\n",
      "    Compute the recall\n",
      "    \n",
      "    The recall is the ratio ``tp / (tp + fn)`` where ``tp`` is the number of\n",
      "    true positives and ``fn`` the number of false negatives. The recall is\n",
      "    intuitively the ability of the classifier to find all the positive samples.\n",
      "    \n",
      "    The best value is 1 and the worst value is 0.\n",
      "    \n",
      "    Read more in the :ref:`User Guide <precision_recall_f_measure_metrics>`.\n",
      "    \n",
      "    Parameters\n",
      "    ----------\n",
      "    y_true : 1d array-like, or label indicator array / sparse matrix\n",
      "        Ground truth (correct) target values.\n",
      "    \n",
      "    y_pred : 1d array-like, or label indicator array / sparse matrix\n",
      "        Estimated targets as returned by a classifier.\n",
      "    \n",
      "    labels : list, optional\n",
      "        The set of labels to include when ``average != 'binary'``, and their\n",
      "        order if ``average is None``. Labels present in the data can be\n",
      "        excluded, for example to calculate a multiclass average ignoring a\n",
      "        majority negative class, while labels not present in the data will\n",
      "        result in 0 components in a macro average. For multilabel targets,\n",
      "        labels are column indices. By default, all labels in ``y_true`` and\n",
      "        ``y_pred`` are used in sorted order.\n",
      "    \n",
      "        .. versionchanged:: 0.17\n",
      "           parameter *labels* improved for multiclass problem.\n",
      "    \n",
      "    pos_label : str or int, 1 by default\n",
      "        The class to report if ``average='binary'`` and the data is binary.\n",
      "        If the data are multiclass or multilabel, this will be ignored;\n",
      "        setting ``labels=[pos_label]`` and ``average != 'binary'`` will report\n",
      "        scores for that label only.\n",
      "    \n",
      "    average : string, [None, 'binary' (default), 'micro', 'macro', 'samples',                        'weighted']\n",
      "        This parameter is required for multiclass/multilabel targets.\n",
      "        If ``None``, the scores for each class are returned. Otherwise, this\n",
      "        determines the type of averaging performed on the data:\n",
      "    \n",
      "        ``'binary'``:\n",
      "            Only report results for the class specified by ``pos_label``.\n",
      "            This is applicable only if targets (``y_{true,pred}``) are binary.\n",
      "        ``'micro'``:\n",
      "            Calculate metrics globally by counting the total true positives,\n",
      "            false negatives and false positives.\n",
      "        ``'macro'``:\n",
      "            Calculate metrics for each label, and find their unweighted\n",
      "            mean.  This does not take label imbalance into account.\n",
      "        ``'weighted'``:\n",
      "            Calculate metrics for each label, and find their average weighted\n",
      "            by support (the number of true instances for each label). This\n",
      "            alters 'macro' to account for label imbalance; it can result in an\n",
      "            F-score that is not between precision and recall.\n",
      "        ``'samples'``:\n",
      "            Calculate metrics for each instance, and find their average (only\n",
      "            meaningful for multilabel classification where this differs from\n",
      "            :func:`accuracy_score`).\n",
      "    \n",
      "    sample_weight : array-like of shape = [n_samples], optional\n",
      "        Sample weights.\n",
      "    \n",
      "    Returns\n",
      "    -------\n",
      "    recall : float (if average is not None) or array of float, shape =        [n_unique_labels]\n",
      "        Recall of the positive class in binary classification or weighted\n",
      "        average of the recall of each class for the multiclass task.\n",
      "    \n",
      "    See also\n",
      "    --------\n",
      "    precision_recall_fscore_support, balanced_accuracy_score,\n",
      "    multilabel_confusion_matrix\n",
      "    \n",
      "    Examples\n",
      "    --------\n",
      "    >>> from sklearn.metrics import recall_score\n",
      "    >>> y_true = [0, 1, 2, 0, 1, 2]\n",
      "    >>> y_pred = [0, 2, 1, 0, 0, 1]\n",
      "    >>> recall_score(y_true, y_pred, average='macro')  # doctest: +ELLIPSIS\n",
      "    0.33...\n",
      "    >>> recall_score(y_true, y_pred, average='micro')  # doctest: +ELLIPSIS\n",
      "    0.33...\n",
      "    >>> recall_score(y_true, y_pred, average='weighted')  # doctest: +ELLIPSIS\n",
      "    0.33...\n",
      "    >>> recall_score(y_true, y_pred, average=None)\n",
      "    array([1., 0., 0.])\n",
      "    \n",
      "    Notes\n",
      "    -----\n",
      "    When ``true positive + false negative == 0``, recall returns 0 and raises\n",
      "    ``UndefinedMetricWarning``.\n",
      "\n"
     ]
    }
   ],
   "source": [
    "help(metrics.recall_score) "
   ]
  },
  {
   "cell_type": "code",
   "execution_count": null,
   "metadata": {},
   "outputs": [],
   "source": []
  },
  {
   "cell_type": "code",
   "execution_count": null,
   "metadata": {},
   "outputs": [],
   "source": []
  },
  {
   "cell_type": "code",
   "execution_count": 2,
   "metadata": {},
   "outputs": [
    {
     "data": {
      "text/plain": [
       "0.6153846153846154"
      ]
     },
     "execution_count": 2,
     "metadata": {},
     "output_type": "execute_result"
    }
   ],
   "source": [
    "a= 1\n",
    "b = rec(a,5)\n",
    "b"
   ]
  },
  {
   "cell_type": "code",
   "execution_count": 13,
   "metadata": {},
   "outputs": [
    {
     "name": "stdout",
     "output_type": "stream",
     "text": [
      "[1, 2, 4, 8, 16, 32] [3, 6, 12, 24, 48, 0]\n"
     ]
    }
   ],
   "source": [
    "a = [0,0,0,0,0,0]\n",
    "\n",
    "b = [0,0,0,0,0,0]\n",
    "\n",
    "def func(a,b,i):\n",
    "    if i > 0:\n",
    "        y= 5*func(a,b,i - 1) - fung(a,b,i-1) \n",
    "    else:\n",
    "        y = 1\n",
    "    a[i] = y\n",
    "    return y\n",
    "\n",
    "def fung(a,b,i):\n",
    "    if i > 0:\n",
    "        z = 6 * func(a,b,i -1) \n",
    "    else:\n",
    "        z =3\n",
    "    b[i] = z\n",
    "    return z\n",
    "\n",
    "func(a,b,5)\n",
    "\n",
    "print(a,b)\n",
    "    "
   ]
  },
  {
   "cell_type": "code",
   "execution_count": null,
   "metadata": {},
   "outputs": [],
   "source": []
  }
 ],
 "metadata": {
  "kernelspec": {
   "display_name": "Python 3",
   "language": "python",
   "name": "python3"
  },
  "language_info": {
   "codemirror_mode": {
    "name": "ipython",
    "version": 3
   },
   "file_extension": ".py",
   "mimetype": "text/x-python",
   "name": "python",
   "nbconvert_exporter": "python",
   "pygments_lexer": "ipython3",
   "version": "3.7.3"
  }
 },
 "nbformat": 4,
 "nbformat_minor": 4
}
